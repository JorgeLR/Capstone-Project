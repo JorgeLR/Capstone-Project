{
 "cells": [
  {
   "cell_type": "markdown",
   "metadata": {},
   "source": [
    "### Import Libraries"
   ]
  },
  {
   "cell_type": "code",
   "execution_count": 1,
   "metadata": {},
   "outputs": [],
   "source": [
    "import pandas as pd\n",
    "from nltk.tokenize import RegexpTokenizer\n",
    "from nltk.stem import WordNetLemmatizer\n",
    "from nltk.stem.porter import PorterStemmer\n",
    "import gensim\n",
    "from rake_nltk import Rake "
   ]
  },
  {
   "cell_type": "markdown",
   "metadata": {},
   "source": [
    "### Read in CSV"
   ]
  },
  {
   "cell_type": "code",
   "execution_count": 2,
   "metadata": {},
   "outputs": [
    {
     "data": {
      "text/html": [
       "<div>\n",
       "<style scoped>\n",
       "    .dataframe tbody tr th:only-of-type {\n",
       "        vertical-align: middle;\n",
       "    }\n",
       "\n",
       "    .dataframe tbody tr th {\n",
       "        vertical-align: top;\n",
       "    }\n",
       "\n",
       "    .dataframe thead th {\n",
       "        text-align: right;\n",
       "    }\n",
       "</style>\n",
       "<table border=\"1\" class=\"dataframe\">\n",
       "  <thead>\n",
       "    <tr style=\"text-align: right;\">\n",
       "      <th></th>\n",
       "      <th>url</th>\n",
       "      <th>id</th>\n",
       "      <th>name</th>\n",
       "      <th>subtitle</th>\n",
       "      <th>icon_url</th>\n",
       "      <th>average_user_rating</th>\n",
       "      <th>user_rating_count</th>\n",
       "      <th>price</th>\n",
       "      <th>in-app_purchases</th>\n",
       "      <th>description</th>\n",
       "      <th>...</th>\n",
       "      <th>combo_text</th>\n",
       "      <th>is_it_free</th>\n",
       "      <th>in-app_purch_sum</th>\n",
       "      <th>has_in-app_purch</th>\n",
       "      <th>successful_app</th>\n",
       "      <th>tokens</th>\n",
       "      <th>stems</th>\n",
       "      <th>lems</th>\n",
       "      <th>keywords</th>\n",
       "      <th>categories</th>\n",
       "    </tr>\n",
       "  </thead>\n",
       "  <tbody>\n",
       "    <tr>\n",
       "      <td>15134</td>\n",
       "      <td>https://apps.apple.com/us/app/kaka-three-kingd...</td>\n",
       "      <td>1436114372</td>\n",
       "      <td>KAKA Three Kingdoms</td>\n",
       "      <td></td>\n",
       "      <td>https://is5-ssl.mzstatic.com/image/thumb/Purpl...</td>\n",
       "      <td>0.0</td>\n",
       "      <td>0.0</td>\n",
       "      <td>0.0</td>\n",
       "      <td>0.00</td>\n",
       "      <td>Description\\nAs a card strategy game based on ...</td>\n",
       "      <td>...</td>\n",
       "      <td>kaka three kingdoms   description\\nas a card s...</td>\n",
       "      <td>0</td>\n",
       "      <td>0.0</td>\n",
       "      <td>0</td>\n",
       "      <td>0</td>\n",
       "      <td>['kaka', 'three', 'kingdoms', 'description', '...</td>\n",
       "      <td>['kaka', 'three', 'kingdom', 'descript', 'na',...</td>\n",
       "      <td>['kaka', 'three', 'kingdom', 'description', 'n...</td>\n",
       "      <td>['win', 'card', 'strategy', 'game', 'based', '...</td>\n",
       "      <td>['Games', ' Strategy', ' Card']</td>\n",
       "    </tr>\n",
       "    <tr>\n",
       "      <td>12335</td>\n",
       "      <td>https://apps.apple.com/us/app/rolling-ball-in-...</td>\n",
       "      <td>1263374980</td>\n",
       "      <td>Rolling Ball In The Cup</td>\n",
       "      <td></td>\n",
       "      <td>https://is2-ssl.mzstatic.com/image/thumb/Purpl...</td>\n",
       "      <td>0.0</td>\n",
       "      <td>0.0</td>\n",
       "      <td>0.0</td>\n",
       "      <td>0.00</td>\n",
       "      <td>\"Rolling Ball In The Cup is a pen color puzzle...</td>\n",
       "      <td>...</td>\n",
       "      <td>rolling ball in the cup   \"rolling ball in the...</td>\n",
       "      <td>0</td>\n",
       "      <td>0.0</td>\n",
       "      <td>0</td>\n",
       "      <td>0</td>\n",
       "      <td>['rolling', 'ball', 'in', 'the', 'cup', 'rolli...</td>\n",
       "      <td>['roll', 'ball', 'in', 'the', 'cup', 'roll', '...</td>\n",
       "      <td>['rolling', 'ball', 'in', 'the', 'cup', 'rolli...</td>\n",
       "      <td>['meet', 'many', 'obstacles', 'make', 'solve',...</td>\n",
       "      <td>['Games', ' Entertainment', ' Puzzle', ' Strat...</td>\n",
       "    </tr>\n",
       "    <tr>\n",
       "      <td>11649</td>\n",
       "      <td>https://apps.apple.com/us/app/infinit-bike-run...</td>\n",
       "      <td>1232577839</td>\n",
       "      <td>Infinit Bike Runner</td>\n",
       "      <td></td>\n",
       "      <td>https://is4-ssl.mzstatic.com/image/thumb/Purpl...</td>\n",
       "      <td>0.0</td>\n",
       "      <td>0.0</td>\n",
       "      <td>0.0</td>\n",
       "      <td>0.00</td>\n",
       "      <td>its an amazing game. its survival game of 2017...</td>\n",
       "      <td>...</td>\n",
       "      <td>infinit bike runner   its an amazing game. its...</td>\n",
       "      <td>0</td>\n",
       "      <td>0.0</td>\n",
       "      <td>0</td>\n",
       "      <td>0</td>\n",
       "      <td>['infinit', 'bike', 'runner', 'its', 'an', 'am...</td>\n",
       "      <td>['infinit', 'bike', 'runner', 'it', 'an', 'ama...</td>\n",
       "      <td>['infinit', 'bike', 'runner', 'it', 'an', 'ama...</td>\n",
       "      <td>['let', 'see', 'long', 'twitter', 'tab', 'face...</td>\n",
       "      <td>['Games', ' Racing', ' Strategy']</td>\n",
       "    </tr>\n",
       "  </tbody>\n",
       "</table>\n",
       "<p>3 rows × 28 columns</p>\n",
       "</div>"
      ],
      "text/plain": [
       "                                                     url          id  \\\n",
       "15134  https://apps.apple.com/us/app/kaka-three-kingd...  1436114372   \n",
       "12335  https://apps.apple.com/us/app/rolling-ball-in-...  1263374980   \n",
       "11649  https://apps.apple.com/us/app/infinit-bike-run...  1232577839   \n",
       "\n",
       "                          name subtitle  \\\n",
       "15134      KAKA Three Kingdoms            \n",
       "12335  Rolling Ball In The Cup            \n",
       "11649      Infinit Bike Runner            \n",
       "\n",
       "                                                icon_url  average_user_rating  \\\n",
       "15134  https://is5-ssl.mzstatic.com/image/thumb/Purpl...                  0.0   \n",
       "12335  https://is2-ssl.mzstatic.com/image/thumb/Purpl...                  0.0   \n",
       "11649  https://is4-ssl.mzstatic.com/image/thumb/Purpl...                  0.0   \n",
       "\n",
       "       user_rating_count  price in-app_purchases  \\\n",
       "15134                0.0    0.0             0.00   \n",
       "12335                0.0    0.0             0.00   \n",
       "11649                0.0    0.0             0.00   \n",
       "\n",
       "                                             description  ...  \\\n",
       "15134  Description\\nAs a card strategy game based on ...  ...   \n",
       "12335  \"Rolling Ball In The Cup is a pen color puzzle...  ...   \n",
       "11649  its an amazing game. its survival game of 2017...  ...   \n",
       "\n",
       "                                              combo_text is_it_free  \\\n",
       "15134  kaka three kingdoms   description\\nas a card s...          0   \n",
       "12335  rolling ball in the cup   \"rolling ball in the...          0   \n",
       "11649  infinit bike runner   its an amazing game. its...          0   \n",
       "\n",
       "      in-app_purch_sum  has_in-app_purch successful_app  \\\n",
       "15134              0.0                 0              0   \n",
       "12335              0.0                 0              0   \n",
       "11649              0.0                 0              0   \n",
       "\n",
       "                                                  tokens  \\\n",
       "15134  ['kaka', 'three', 'kingdoms', 'description', '...   \n",
       "12335  ['rolling', 'ball', 'in', 'the', 'cup', 'rolli...   \n",
       "11649  ['infinit', 'bike', 'runner', 'its', 'an', 'am...   \n",
       "\n",
       "                                                   stems  \\\n",
       "15134  ['kaka', 'three', 'kingdom', 'descript', 'na',...   \n",
       "12335  ['roll', 'ball', 'in', 'the', 'cup', 'roll', '...   \n",
       "11649  ['infinit', 'bike', 'runner', 'it', 'an', 'ama...   \n",
       "\n",
       "                                                    lems  \\\n",
       "15134  ['kaka', 'three', 'kingdom', 'description', 'n...   \n",
       "12335  ['rolling', 'ball', 'in', 'the', 'cup', 'rolli...   \n",
       "11649  ['infinit', 'bike', 'runner', 'it', 'an', 'ama...   \n",
       "\n",
       "                                                keywords  \\\n",
       "15134  ['win', 'card', 'strategy', 'game', 'based', '...   \n",
       "12335  ['meet', 'many', 'obstacles', 'make', 'solve',...   \n",
       "11649  ['let', 'see', 'long', 'twitter', 'tab', 'face...   \n",
       "\n",
       "                                              categories  \n",
       "15134                    ['Games', ' Strategy', ' Card']  \n",
       "12335  ['Games', ' Entertainment', ' Puzzle', ' Strat...  \n",
       "11649                  ['Games', ' Racing', ' Strategy']  \n",
       "\n",
       "[3 rows x 28 columns]"
      ]
     },
     "execution_count": 2,
     "metadata": {},
     "output_type": "execute_result"
    }
   ],
   "source": [
    "df = pd.read_csv(\"data/features_appstore_games.csv\")\n",
    "df.sample(3)"
   ]
  },
  {
   "cell_type": "markdown",
   "metadata": {},
   "source": [
    "### Selecting apps with ratings"
   ]
  },
  {
   "cell_type": "code",
   "execution_count": 3,
   "metadata": {},
   "outputs": [],
   "source": [
    "df = df.loc[df[\"user_rating_count\"] > 0]"
   ]
  },
  {
   "cell_type": "markdown",
   "metadata": {},
   "source": [
    "### User input title"
   ]
  },
  {
   "cell_type": "code",
   "execution_count": 4,
   "metadata": {},
   "outputs": [],
   "source": [
    "title = \"Candy Crush Saga\""
   ]
  },
  {
   "cell_type": "markdown",
   "metadata": {},
   "source": [
    "### User input description"
   ]
  },
  {
   "cell_type": "code",
   "execution_count": 5,
   "metadata": {},
   "outputs": [],
   "source": [
    "description = \"\"\"Start playing Candy Crush Saga today – a legendary puzzle game loved by millions of players around the world.\n",
    "\n",
    "\n",
    "With over a trillion levels played, this sweet match 3 puzzle game is one of the most popular mobile games of all time!\n",
    "\n",
    "\n",
    "Switch and match Candies in this tasty puzzle adventure to progress to the next level for that sweet winning feeling! Solve puzzles with quick thinking and smart moves, and be rewarded with delicious rainbow-colored cascades and tasty candy combos!\n",
    "\n",
    "\n",
    "Plan your moves by matching 3 or more candies in a row, using boosters wisely in order to overcome those extra sticky puzzles! Blast the chocolate and collect sweet candy across thousands of levels, guaranteed to have you craving more!\n",
    "\n",
    "\n",
    "Candy Crush Saga features:\n",
    "\n",
    "\n",
    "THE GAME THAT KEEPS YOU CRAVING MORE\n",
    "\n",
    "Thousands of the best levels and puzzles in the Candy Kingdom and with more added every 2 weeks your sugar fix is never far away! \n",
    "\n",
    "\n",
    "MANY WAYS TO WIN REWARDS\n",
    "\n",
    "Check back daily and spin the Daily Booster Wheel to receive free tasty rewards, and take part in time limited challenges to earn boosters to help you level up! \n",
    "\n",
    "\n",
    " VARIETY OF SUGAR-COATED CHALLENGES\n",
    "\n",
    "Sweet ways to play: Game modes including Target Score, Clear the Jelly, Collect the Ingredients and Order Mode\n",
    "\n",
    "\n",
    "PLAY ALONE OR WITH FRIENDS\n",
    "\n",
    "Get to the top of the leaderboard events and compare scores with friends and competitors!\n",
    "\n",
    "\n",
    "Levels range from easy to hard for all adults to enjoy – accessible on-the-go, offline and online.\n",
    "\n",
    "It's easy to sync the game between devices and unlock full game features when connected to the Internet or Wifi.\n",
    "\n",
    "Follow us to get news and updates; facebook.com/CandyCrushSaga, Twitter @CandyCrushSaga, Youtube https://www.youtube.com/user/CandyCrushOfficial\n",
    "\n",
    "Visit https://community.king.com/en/candy-crush-saga to access the Community and competitions!\n",
    "\n",
    "Candy Crush Saga is completely free to play but some optional in-game items will require payment.\n",
    "\n",
    "You can turn off the payment feature by disabling in-app purchases in your device’s settings.\n",
    "\n",
    "By downloading this game you are agreeing to our terms of service; http://about.king.com/consumer-terms/terms\n",
    "\n",
    "\n",
    "Have fun playing Candy Crush Saga the sweetest match 3 puzzle game around! \n",
    "\n",
    "If you enjoy playing Candy Crush Saga, you may also enjoy its sister puzzle games; Candy Crush Soda Saga, Candy Crush Jelly Saga and Candy Crush Friends Saga!\"\"\""
   ]
  },
  {
   "cell_type": "markdown",
   "metadata": {},
   "source": [
    "### Pre-Function"
   ]
  },
  {
   "cell_type": "code",
   "execution_count": 6,
   "metadata": {},
   "outputs": [],
   "source": [
    "tokenizer = RegexpTokenizer(r'\\w+')\n",
    "def tokens(combo):\n",
    "    return tokenizer.tokenize(combo)\n",
    "\n",
    "stemmer = PorterStemmer()\n",
    "def stemming(tokens):\n",
    "    return [stemmer.stem(token) for token in tokens]\n",
    "\n",
    "lemmatizer = WordNetLemmatizer()\n",
    "def lemmatizing(tokens):\n",
    "    return [lemmatizer.lemmatize(token) for token in tokens]\n",
    "\n",
    "def keyword_func(combo_text):\n",
    "    r = Rake()\n",
    "    r.extract_keywords_from_text(combo_text)\n",
    "    key_words_dict = r.get_word_degrees()\n",
    "    return list(key_words_dict.keys())"
   ]
  },
  {
   "cell_type": "markdown",
   "metadata": {},
   "source": [
    "### Gensim"
   ]
  },
  {
   "cell_type": "code",
   "execution_count": 7,
   "metadata": {},
   "outputs": [],
   "source": [
    "model = gensim.models.KeyedVectors.load_word2vec_format('../../Gensim/lexvec.enwiki+newscrawl.300d.W.pos.vectors')"
   ]
  },
  {
   "cell_type": "markdown",
   "metadata": {},
   "source": [
    "### The function"
   ]
  },
  {
   "cell_type": "code",
   "execution_count": 8,
   "metadata": {},
   "outputs": [],
   "source": [
    "def evaluator(title, description):\n",
    "    new_app_combo = title + \" \" + description\n",
    "    new_app_combo = new_app_combo.lower()\n",
    "#     new_app_tokens = tokenizer.tokenize(new_app_combo)\n",
    "#     new_app_stems = [stemmer.stem(token) for token in new_app_tokens]\n",
    "#     new_app_lems = [lemmatizer.lemmatize(token) for token in new_app_tokens]\n",
    "#     print(new_app_combo)\n",
    "\n",
    "    new_app_keyw = keyword_func(new_app_combo)\n",
    "    \n",
    "    new_app_keyw_f = []\n",
    "    for w in new_app_keyw:\n",
    "        new_app_words = list(filter(lambda x: x in model.vocab, w))\n",
    "        new_app_words = \"\".join(new_app_words)\n",
    "        new_app_keyw_f.append(new_app_words)\n",
    "    \n",
    "    for empty_str in range(new_app_keyw_f.count(\"\")):\n",
    "        new_app_keyw_f.remove(\"\")\n",
    "        \n",
    "    for w in new_app_keyw_f:\n",
    "        if w in model.vocab:\n",
    "            pass\n",
    "        else:\n",
    "            new_app_keyw_f.remove(w)\n",
    "    \n",
    "#     print(new_app_keyw_f)\n",
    "    \n",
    "    word2vec_list = []\n",
    "#     print(model.most_similar(new_app_keyw_f))\n",
    "    for tup in model.most_similar(new_app_keyw_f):\n",
    "            word, sim = tup\n",
    "            word2vec_list.append(word)\n",
    "    word2vec_list.extend(new_app_keyw_f)\n",
    "    print(word2vec_list)\n",
    "    app_title_list = []\n",
    "    t_perc = 0.9\n",
    "    threshold = round(t_perc * len(word2vec_list))\n",
    "    print(f\"The threshold is set to {t_perc} similarity, taking {threshold} words of {len(word2vec_list)}\")\n",
    "    \n",
    "    t_perc_min = 0.25\n",
    "    while len(app_title_list) < 5 and threshold > round(t_perc_min * len(word2vec_list)):\n",
    "        for app in df.loc[df['keywords'].map(lambda x:sum(1 for w in word2vec_list if w in x))>=threshold,'id']:\n",
    "            app_title_list.append(app)\n",
    "        for item in app_title_list:\n",
    "            if app_title_list.count(item) > 1:\n",
    "                app_title_list.reverse()\n",
    "                app_title_list.remove(item)\n",
    "                app_title_list.reverse()\n",
    "        print(f\"There are {len(app_title_list)} at a {threshold} threshold\")\n",
    "        threshold -= round(0.05 * len(word2vec_list))\n",
    "        print(len(app_title_list))\n",
    "    return app_title_list[:10] if len(app_title_list) > 0 else print('No Results!')"
   ]
  },
  {
   "cell_type": "code",
   "execution_count": 9,
   "metadata": {
    "scrolled": false
   },
   "outputs": [
    {
     "name": "stdout",
     "output_type": "stream",
     "text": [
      "['and', 'just', 'all', 'choose', 'only', 'hopefully', 'customize', 'them', 'figuring', 'look', 'row', 'trillion', 'levels', 'played', 'visit', 'https', 'community', 'easy', 'match', 'candies', 'youtube', 'www', 'candy', 'crush', 'saga', 'com', 'matching', 'delicious', 'rainbow', 'adults', 'friends', 'moves', 'collect', 'sweet', 'puzzle', 'game', 'winning', 'feeling', 'get', 'news', 'guaranteed', 'one', 'soda', 'fun', 'playing', 'take', 'part', 'blast', 'variety', 'http', 'turn', 'play', 'may', 'also', 'enjoy', 'competitions', 'devices', 'receive', 'free', 'tasty', 'rewards', 'hard', 'players', 'around', 'follow', 'us', 'app', 'purchases', 'jelly', 'help', 'accessible', 'many', 'ways', 'next', 'level', 'overcome', 'ingredients', 'craving', 'popular', 'mobile', 'games', 'clear', 'keeps', 'facebook', 'sweetest', 'range', 'require', 'payment', 'wifi', 'never', 'far', 'away', 'modes', 'including', 'target', 'score', 'world', 'rewarded', 'chocolate', 'agreeing', 'settings', 'using', 'boosters', 'wisely', 'solve', 'puzzles', 'win', 'check', 'back', 'daily', 'sister', 'legendary', 'loved', 'colored', 'cascades', 'go', 'spin', 'across', 'thousands', 'internet', 'en', 'downloading', 'king', 'service', 'plan', 'compare', 'scores', 'time', 'millions', 'booster', 'wheel', 'earn', 'items', 'extra', 'sticky', 'order', 'mode', 'alone', 'optional', 'terms', 'start', 'today', 'device', 'progress', 'features', 'access', 'competitors', 'unlock', 'full', 'connected', 'offline', 'updates', 'completely', 'added', 'every', 'weeks', 'kingdom', 'adventure', 'online', 'feature', 'coated', 'challenges', 'twitter', 'sugar', 'best', 'leaderboard', 'events', 'switch', 'smart', 'consumer', 'top', 'sync', 'disabling', 'limited', 'quick', 'thinking', 'fix', 'user', 'combos']\n",
      "The threshold is set to 0.9 similarity, taking 161 words of 179\n",
      "There are 0 at a 161 threshold\n",
      "0\n",
      "There are 0 at a 152 threshold\n",
      "0\n",
      "There are 0 at a 143 threshold\n",
      "0\n",
      "There are 0 at a 134 threshold\n",
      "0\n",
      "There are 0 at a 125 threshold\n",
      "0\n",
      "There are 0 at a 116 threshold\n",
      "0\n",
      "There are 0 at a 107 threshold\n",
      "0\n",
      "There are 0 at a 98 threshold\n",
      "0\n",
      "There are 0 at a 89 threshold\n",
      "0\n",
      "There are 1 at a 80 threshold\n",
      "1\n",
      "There are 1 at a 71 threshold\n",
      "1\n",
      "There are 4 at a 62 threshold\n",
      "4\n",
      "There are 81 at a 53 threshold\n",
      "81\n"
     ]
    },
    {
     "data": {
      "text/plain": [
       "[1154114309,\n",
       " 965629604,\n",
       " 965869424,\n",
       " 1212982720,\n",
       " 307132353,\n",
       " 321756558,\n",
       " 322110989,\n",
       " 329218549,\n",
       " 329466722,\n",
       " 335029050]"
      ]
     },
     "execution_count": 9,
     "metadata": {},
     "output_type": "execute_result"
    }
   ],
   "source": [
    "evaluator(title, description)"
   ]
  },
  {
   "cell_type": "markdown",
   "metadata": {},
   "source": [
    "## Building the application"
   ]
  },
  {
   "cell_type": "code",
   "execution_count": 10,
   "metadata": {},
   "outputs": [],
   "source": [
    "the_list = [1154114309,\n",
    " 965629604,\n",
    " 965869424,\n",
    " 1212982720,\n",
    " 307132353,\n",
    " 321756558,\n",
    " 322110989,\n",
    " 329218549,\n",
    " 329466722,\n",
    " 335029050]\n"
   ]
  },
  {
   "cell_type": "markdown",
   "metadata": {},
   "source": [
    "### Extract titles"
   ]
  },
  {
   "cell_type": "code",
   "execution_count": 11,
   "metadata": {},
   "outputs": [
    {
     "data": {
      "text/plain": [
       "'Kuros Classic'"
      ]
     },
     "execution_count": 11,
     "metadata": {},
     "output_type": "execute_result"
    }
   ],
   "source": [
    "str(df.loc[df[\"id\"] == the_list[0], \"name\"]).split(\"    \")[1].split(\"\\n\")[0]"
   ]
  },
  {
   "cell_type": "code",
   "execution_count": 12,
   "metadata": {},
   "outputs": [
    {
     "data": {
      "text/plain": [
       "['Kuros Classic',\n",
       " 'Gem Quest - Jewel Games Puzzle',\n",
       " 'Super Gem Quest 2 Blast Mania',\n",
       " 'Cute Safari: Match 3 Puzzle',\n",
       " '\"Sally\\'s Spa\"',\n",
       " 'Pixel Starships\\\\u2122',\n",
       " 'PUSHY',\n",
       " 'Chess - Play & Learn',\n",
       " 'DodgeDot',\n",
       " 'Catan Classic']"
      ]
     },
     "execution_count": 12,
     "metadata": {},
     "output_type": "execute_result"
    }
   ],
   "source": [
    "names = []\n",
    "for i in range(len(the_list)):\n",
    "    name = str(df.loc[df[\"id\"] == the_list[i], \"name\"]).split(\"    \")[1].split(\"\\n\")[0]\n",
    "    names.append(name)\n",
    "names"
   ]
  },
  {
   "cell_type": "markdown",
   "metadata": {},
   "source": [
    "### Extract average user rating"
   ]
  },
  {
   "cell_type": "code",
   "execution_count": 13,
   "metadata": {},
   "outputs": [
    {
     "data": {
      "text/plain": [
       "3.5"
      ]
     },
     "execution_count": 13,
     "metadata": {},
     "output_type": "execute_result"
    }
   ],
   "source": [
    "float(df.loc[df[\"id\"] == the_list[0], \"average_user_rating\"])"
   ]
  },
  {
   "cell_type": "code",
   "execution_count": 14,
   "metadata": {},
   "outputs": [
    {
     "data": {
      "text/plain": [
       "([3.5, 5.0, 5.0, 5.0, 4.5, 4.5, 4.0, 4.5, 3.0, 4.0], 4.3)"
      ]
     },
     "execution_count": 14,
     "metadata": {},
     "output_type": "execute_result"
    }
   ],
   "source": [
    "rating_list = []\n",
    "rating_avg = 0\n",
    "for i in range(len(the_list)):\n",
    "    num = float(df.loc[df[\"id\"] == the_list[i], \"average_user_rating\"])\n",
    "    rating_list.append(num)\n",
    "    rating_avg += num\n",
    "rating_avg = rating_avg/len(the_list)\n",
    "rating_list, rating_avg"
   ]
  },
  {
   "cell_type": "markdown",
   "metadata": {},
   "source": [
    "### Create new DataFrame to use for extraction in the application"
   ]
  },
  {
   "cell_type": "code",
   "execution_count": 15,
   "metadata": {},
   "outputs": [
    {
     "data": {
      "text/html": [
       "<div>\n",
       "<style scoped>\n",
       "    .dataframe tbody tr th:only-of-type {\n",
       "        vertical-align: middle;\n",
       "    }\n",
       "\n",
       "    .dataframe tbody tr th {\n",
       "        vertical-align: top;\n",
       "    }\n",
       "\n",
       "    .dataframe thead th {\n",
       "        text-align: right;\n",
       "    }\n",
       "</style>\n",
       "<table border=\"1\" class=\"dataframe\">\n",
       "  <thead>\n",
       "    <tr style=\"text-align: right;\">\n",
       "      <th></th>\n",
       "    </tr>\n",
       "  </thead>\n",
       "  <tbody>\n",
       "  </tbody>\n",
       "</table>\n",
       "</div>"
      ],
      "text/plain": [
       "Empty DataFrame\n",
       "Columns: []\n",
       "Index: []"
      ]
     },
     "execution_count": 15,
     "metadata": {},
     "output_type": "execute_result"
    }
   ],
   "source": [
    "new_df = pd.DataFrame()\n",
    "new_df"
   ]
  },
  {
   "cell_type": "code",
   "execution_count": 16,
   "metadata": {},
   "outputs": [],
   "source": [
    "for sim_app in range(len(the_list)):\n",
    "    if sim_app == 0:\n",
    "        new_df = df.loc[df[\"id\"] == the_list[sim_app]]\n",
    "    else:\n",
    "        app = df.loc[df[\"id\"] == the_list[sim_app]]\n",
    "        new_df = pd.concat([new_df, app])\n",
    "\n",
    "new_df"
   ]
  },
  {
   "cell_type": "markdown",
   "metadata": {},
   "source": [
    "### Create a DataFrame for top apps"
   ]
  },
  {
   "cell_type": "code",
   "execution_count": 17,
   "metadata": {},
   "outputs": [
    {
     "data": {
      "text/html": [
       "<div>\n",
       "<style scoped>\n",
       "    .dataframe tbody tr th:only-of-type {\n",
       "        vertical-align: middle;\n",
       "    }\n",
       "\n",
       "    .dataframe tbody tr th {\n",
       "        vertical-align: top;\n",
       "    }\n",
       "\n",
       "    .dataframe thead th {\n",
       "        text-align: right;\n",
       "    }\n",
       "</style>\n",
       "<table border=\"1\" class=\"dataframe\">\n",
       "  <thead>\n",
       "    <tr style=\"text-align: right;\">\n",
       "      <th></th>\n",
       "      <th>url</th>\n",
       "      <th>id</th>\n",
       "      <th>name</th>\n",
       "      <th>subtitle</th>\n",
       "      <th>icon_url</th>\n",
       "      <th>average_user_rating</th>\n",
       "      <th>user_rating_count</th>\n",
       "      <th>price</th>\n",
       "      <th>in-app_purchases</th>\n",
       "      <th>description</th>\n",
       "      <th>...</th>\n",
       "      <th>combo_text</th>\n",
       "      <th>is_it_free</th>\n",
       "      <th>in-app_purch_sum</th>\n",
       "      <th>has_in-app_purch</th>\n",
       "      <th>successful_app</th>\n",
       "      <th>tokens</th>\n",
       "      <th>stems</th>\n",
       "      <th>lems</th>\n",
       "      <th>keywords</th>\n",
       "      <th>categories</th>\n",
       "    </tr>\n",
       "  </thead>\n",
       "  <tbody>\n",
       "    <tr>\n",
       "      <td>1377</td>\n",
       "      <td>https://apps.apple.com/us/app/clash-of-clans/i...</td>\n",
       "      <td>529479190</td>\n",
       "      <td>Clash of Clans</td>\n",
       "      <td>Build your empire</td>\n",
       "      <td>https://is2-ssl.mzstatic.com/image/thumb/Purpl...</td>\n",
       "      <td>4.5</td>\n",
       "      <td>3032734.0</td>\n",
       "      <td>0.0</td>\n",
       "      <td>4.99, 9.99, 19.99, 0.99, 4.99, 0.99, 49.99, 99...</td>\n",
       "      <td>\"Join millions of players worldwide as you bui...</td>\n",
       "      <td>...</td>\n",
       "      <td>clash of clans build your empire \"join million...</td>\n",
       "      <td>0</td>\n",
       "      <td>199.90</td>\n",
       "      <td>1</td>\n",
       "      <td>1</td>\n",
       "      <td>['clash', 'of', 'clans', 'build', 'your', 'emp...</td>\n",
       "      <td>['clash', 'of', 'clan', 'build', 'your', 'empi...</td>\n",
       "      <td>['clash', 'of', 'clan', 'build', 'your', 'empi...</td>\n",
       "      <td>['service', 'raise', 'also', 'u2019s', 'guide'...</td>\n",
       "      <td>['Games', ' Action', ' Entertainment', ' Strat...</td>\n",
       "    </tr>\n",
       "    <tr>\n",
       "      <td>7185</td>\n",
       "      <td>https://apps.apple.com/us/app/clash-royale/id1...</td>\n",
       "      <td>1053012308</td>\n",
       "      <td>Clash Royale</td>\n",
       "      <td>Epic Real-Time Card Battles!</td>\n",
       "      <td>https://is3-ssl.mzstatic.com/image/thumb/Purpl...</td>\n",
       "      <td>4.5</td>\n",
       "      <td>1277095.0</td>\n",
       "      <td>0.0</td>\n",
       "      <td>4.99, 0.99, 9.99, 19.99, 9.99, 4.99, 0.99, 19....</td>\n",
       "      <td>\"Enter the Arena! From the creators of Clash o...</td>\n",
       "      <td>...</td>\n",
       "      <td>clash royale epic real-time card battles! \"ent...</td>\n",
       "      <td>0</td>\n",
       "      <td>77.90</td>\n",
       "      <td>1</td>\n",
       "      <td>1</td>\n",
       "      <td>['clash', 'royale', 'epic', 'real', 'time', 'c...</td>\n",
       "      <td>['clash', 'royal', 'epic', 'real', 'time', 'ca...</td>\n",
       "      <td>['clash', 'royale', 'epic', 'real', 'time', 'c...</td>\n",
       "      <td>['ultimate', 'battle', 'deck', 'service', 'u25...</td>\n",
       "      <td>['Games', ' Strategy', ' Entertainment', ' Act...</td>\n",
       "    </tr>\n",
       "    <tr>\n",
       "      <td>13410</td>\n",
       "      <td>https://apps.apple.com/us/app/pubg-mobile/id13...</td>\n",
       "      <td>1330123889</td>\n",
       "      <td>PUBG MOBILE</td>\n",
       "      <td>Team up! New 4v4 Mode is here</td>\n",
       "      <td>https://is3-ssl.mzstatic.com/image/thumb/Purpl...</td>\n",
       "      <td>4.5</td>\n",
       "      <td>711409.0</td>\n",
       "      <td>0.0</td>\n",
       "      <td>0.99, 9.99, 0.99, 9.99, 24.99, 4.99, 2.99, 99....</td>\n",
       "      <td>The official mobile version of PlayerUnknown\\'...</td>\n",
       "      <td>...</td>\n",
       "      <td>pubg mobile team up! new 4v4 mode is here the ...</td>\n",
       "      <td>0</td>\n",
       "      <td>218.88</td>\n",
       "      <td>1</td>\n",
       "      <td>1</td>\n",
       "      <td>['pubg', 'mobile', 'team', 'up', 'new', '4v4',...</td>\n",
       "      <td>['pubg', 'mobil', 'team', 'up', 'new', '4v4', ...</td>\n",
       "      <td>['pubg', 'mobile', 'team', 'up', 'new', '4v4',...</td>\n",
       "      <td>['r', '100', 'confirmed', 'pubgm', 'primeplus'...</td>\n",
       "      <td>['Games', ' Action', ' Strategy']</td>\n",
       "    </tr>\n",
       "    <tr>\n",
       "      <td>1920</td>\n",
       "      <td>https://apps.apple.com/us/app/plants-vs-zombie...</td>\n",
       "      <td>597986893</td>\n",
       "      <td>Plants vs. Zombies\\u2122 2</td>\n",
       "      <td>Save your brains!</td>\n",
       "      <td>https://is2-ssl.mzstatic.com/image/thumb/Purpl...</td>\n",
       "      <td>4.5</td>\n",
       "      <td>469562.0</td>\n",
       "      <td>0.0</td>\n",
       "      <td>4.99, 2.99, 9.99, 9.99, 4.99, 3.99, 3.99, 1.99...</td>\n",
       "      <td>\"As beautifully presented as it is absorbing t...</td>\n",
       "      <td>...</td>\n",
       "      <td>plants vs. zombies\\u2122 2 save your brains! \"...</td>\n",
       "      <td>0</td>\n",
       "      <td>49.90</td>\n",
       "      <td>1</td>\n",
       "      <td>1</td>\n",
       "      <td>['plants', 'vs', 'zombies', 'u2122', '2', 'sav...</td>\n",
       "      <td>['plant', 'vs', 'zombi', 'u2122', '2', 'save',...</td>\n",
       "      <td>['plant', 'v', 'zombie', 'u2122', '2', 'save',...</td>\n",
       "      <td>['service', 'u2019', 'notice', 'posted', 'stra...</td>\n",
       "      <td>['Games', ' Strategy', ' Entertainment', ' Adv...</td>\n",
       "    </tr>\n",
       "    <tr>\n",
       "      <td>8137</td>\n",
       "      <td>https://apps.apple.com/us/app/pok%C3%A9mon-go/...</td>\n",
       "      <td>1094591345</td>\n",
       "      <td>Pok\\xe9mon GO</td>\n",
       "      <td>Discover Pok\\xe9mon worldwide</td>\n",
       "      <td>https://is3-ssl.mzstatic.com/image/thumb/Purpl...</td>\n",
       "      <td>3.5</td>\n",
       "      <td>439776.0</td>\n",
       "      <td>0.0</td>\n",
       "      <td>0.99, 4.99, 9.99, 19.99, 39.99, 99.99</td>\n",
       "      <td>NEW! Team GO Rocket has invaded the world of P...</td>\n",
       "      <td>...</td>\n",
       "      <td>pok\\xe9mon go discover pok\\xe9mon worldwide ne...</td>\n",
       "      <td>0</td>\n",
       "      <td>175.94</td>\n",
       "      <td>1</td>\n",
       "      <td>0</td>\n",
       "      <td>['pok', 'xe9mon', 'go', 'discover', 'pok', 'xe...</td>\n",
       "      <td>['pok', 'xe9mon', 'go', 'discov', 'pok', 'xe9m...</td>\n",
       "      <td>['pok', 'xe9mon', 'go', 'discover', 'pok', 'xe...</td>\n",
       "      <td>['named', 'team', 'go', 'rocket', 'u201cbest',...</td>\n",
       "      <td>['Games', ' Strategy', ' Role Playing', ' Heal...</td>\n",
       "    </tr>\n",
       "    <tr>\n",
       "      <td>2409</td>\n",
       "      <td>https://apps.apple.com/us/app/boom-beach/id672...</td>\n",
       "      <td>672150402</td>\n",
       "      <td>Boom Beach</td>\n",
       "      <td>Build. Plan. Boom!</td>\n",
       "      <td>https://is1-ssl.mzstatic.com/image/thumb/Purpl...</td>\n",
       "      <td>4.5</td>\n",
       "      <td>400787.0</td>\n",
       "      <td>0.0</td>\n",
       "      <td>4.99, 9.99, 19.99, 99.99, 49.99, 2.99, 0.99, 9.99</td>\n",
       "      <td>\"Welcome to Boom Beach: come with a plan or le...</td>\n",
       "      <td>...</td>\n",
       "      <td>boom beach build. plan. boom! \"welcome to boom...</td>\n",
       "      <td>0</td>\n",
       "      <td>198.92</td>\n",
       "      <td>1</td>\n",
       "      <td>1</td>\n",
       "      <td>['boom', 'beach', 'build', 'plan', 'boom', 'we...</td>\n",
       "      <td>['boom', 'beach', 'build', 'plan', 'boom', 'we...</td>\n",
       "      <td>['boom', 'beach', 'build', 'plan', 'boom', 'we...</td>\n",
       "      <td>['base', 'allowed', 'extra', 'builders', 'cost...</td>\n",
       "      <td>['Games', ' Strategy', ' Action']</td>\n",
       "    </tr>\n",
       "    <tr>\n",
       "      <td>12469</td>\n",
       "      <td>https://apps.apple.com/us/app/cash-inc-fame-fo...</td>\n",
       "      <td>1270598321</td>\n",
       "      <td>Cash, Inc. Fame &amp; Fortune Game</td>\n",
       "      <td>Fun Strategy Business Clicker!</td>\n",
       "      <td>https://is3-ssl.mzstatic.com/image/thumb/Purpl...</td>\n",
       "      <td>5.0</td>\n",
       "      <td>374772.0</td>\n",
       "      <td>0.0</td>\n",
       "      <td>1.99, 4.99, 0.99, 9.99, 3.99, 19.99, 2.99, 4.9...</td>\n",
       "      <td>\"Embark on the ultimate idle clicker adventure...</td>\n",
       "      <td>...</td>\n",
       "      <td>cash, inc. fame &amp; fortune game fun strategy bu...</td>\n",
       "      <td>0</td>\n",
       "      <td>109.90</td>\n",
       "      <td>1</td>\n",
       "      <td>1</td>\n",
       "      <td>['cash', 'inc', 'fame', 'fortune', 'game', 'fu...</td>\n",
       "      <td>['cash', 'inc', 'fame', 'fortun', 'game', 'fun...</td>\n",
       "      <td>['cash', 'inc', 'fame', 'fortune', 'game', 'fu...</td>\n",
       "      <td>['u2019re', 'ready', 'features', ':\\\\', 'n', '...</td>\n",
       "      <td>['Games', ' Strategy', ' Entertainment', ' Sim...</td>\n",
       "    </tr>\n",
       "    <tr>\n",
       "      <td>8630</td>\n",
       "      <td>https://apps.apple.com/us/app/idle-miner-tycoo...</td>\n",
       "      <td>1116645064</td>\n",
       "      <td>Idle Miner Tycoon: Cash Empire</td>\n",
       "      <td>Mining Manager: Clicker Games</td>\n",
       "      <td>https://is5-ssl.mzstatic.com/image/thumb/Purpl...</td>\n",
       "      <td>4.5</td>\n",
       "      <td>283035.0</td>\n",
       "      <td>0.0</td>\n",
       "      <td>1.99, 2.99, 4.99, 4.99, 6.99, 19.99, 9.99, 8.9...</td>\n",
       "      <td>\"Become an industrial tycoon by managing your ...</td>\n",
       "      <td>...</td>\n",
       "      <td>idle miner tycoon: cash empire mining manager:...</td>\n",
       "      <td>0</td>\n",
       "      <td>83.90</td>\n",
       "      <td>1</td>\n",
       "      <td>1</td>\n",
       "      <td>['idle', 'miner', 'tycoon', 'cash', 'empire', ...</td>\n",
       "      <td>['idl', 'miner', 'tycoon', 'cash', 'empir', 'm...</td>\n",
       "      <td>['idle', 'miner', 'tycoon', 'cash', 'empire', ...</td>\n",
       "      <td>['automate', 'u2022', 'prestige', 'feature', '...</td>\n",
       "      <td>['Games', ' Simulation', ' Strategy', ' Entert...</td>\n",
       "    </tr>\n",
       "    <tr>\n",
       "      <td>38</td>\n",
       "      <td>https://apps.apple.com/us/app/tapdefense/id297...</td>\n",
       "      <td>297558390</td>\n",
       "      <td>TapDefense</td>\n",
       "      <td></td>\n",
       "      <td>https://is2-ssl.mzstatic.com/image/thumb/Purpl...</td>\n",
       "      <td>3.5</td>\n",
       "      <td>273687.0</td>\n",
       "      <td>0.0</td>\n",
       "      <td>0.99, 2.99, 1.99</td>\n",
       "      <td>Nominated one of the top free apps and top fre...</td>\n",
       "      <td>...</td>\n",
       "      <td>tapdefense   nominated one of the top free app...</td>\n",
       "      <td>0</td>\n",
       "      <td>5.97</td>\n",
       "      <td>1</td>\n",
       "      <td>0</td>\n",
       "      <td>['tapdefense', 'nominated', 'one', 'of', 'the'...</td>\n",
       "      <td>['tapdefens', 'nomin', 'one', 'of', 'the', 'to...</td>\n",
       "      <td>['tapdefense', 'nominated', 'one', 'of', 'the'...</td>\n",
       "      <td>['friends', 'nchallenge', 'free', 'content', '...</td>\n",
       "      <td>['Games', ' Strategy', ' Entertainment', ' Sim...</td>\n",
       "    </tr>\n",
       "    <tr>\n",
       "      <td>3549</td>\n",
       "      <td>https://apps.apple.com/us/app/star-wars-comman...</td>\n",
       "      <td>847985808</td>\n",
       "      <td>Star Wars\\u2122: Commander</td>\n",
       "      <td>Base Building Strategy Game</td>\n",
       "      <td>https://is2-ssl.mzstatic.com/image/thumb/Purpl...</td>\n",
       "      <td>4.5</td>\n",
       "      <td>259030.0</td>\n",
       "      <td>0.0</td>\n",
       "      <td>19.99, 9.99, 4.99, 99.99, 49.99, 1.99, 19.99, ...</td>\n",
       "      <td>Fight for Your Side. Command The Galaxy.\\n\\nTh...</td>\n",
       "      <td>...</td>\n",
       "      <td>star wars\\u2122: commander base building strat...</td>\n",
       "      <td>0</td>\n",
       "      <td>252.90</td>\n",
       "      <td>1</td>\n",
       "      <td>1</td>\n",
       "      <td>['star', 'wars', 'u2122', 'commander', 'base',...</td>\n",
       "      <td>['star', 'war', 'u2122', 'command', 'base', 'b...</td>\n",
       "      <td>['star', 'war', 'u2122', 'commander', 'base', ...</td>\n",
       "      <td>['base', 'service', 'ios', 'versions', 'u2019k...</td>\n",
       "      <td>['Games', ' Entertainment', ' Action', ' Strat...</td>\n",
       "    </tr>\n",
       "  </tbody>\n",
       "</table>\n",
       "<p>10 rows × 28 columns</p>\n",
       "</div>"
      ],
      "text/plain": [
       "                                                     url          id  \\\n",
       "1377   https://apps.apple.com/us/app/clash-of-clans/i...   529479190   \n",
       "7185   https://apps.apple.com/us/app/clash-royale/id1...  1053012308   \n",
       "13410  https://apps.apple.com/us/app/pubg-mobile/id13...  1330123889   \n",
       "1920   https://apps.apple.com/us/app/plants-vs-zombie...   597986893   \n",
       "8137   https://apps.apple.com/us/app/pok%C3%A9mon-go/...  1094591345   \n",
       "2409   https://apps.apple.com/us/app/boom-beach/id672...   672150402   \n",
       "12469  https://apps.apple.com/us/app/cash-inc-fame-fo...  1270598321   \n",
       "8630   https://apps.apple.com/us/app/idle-miner-tycoo...  1116645064   \n",
       "38     https://apps.apple.com/us/app/tapdefense/id297...   297558390   \n",
       "3549   https://apps.apple.com/us/app/star-wars-comman...   847985808   \n",
       "\n",
       "                                 name                        subtitle  \\\n",
       "1377                   Clash of Clans               Build your empire   \n",
       "7185                     Clash Royale    Epic Real-Time Card Battles!   \n",
       "13410                     PUBG MOBILE   Team up! New 4v4 Mode is here   \n",
       "1920       Plants vs. Zombies\\u2122 2               Save your brains!   \n",
       "8137                    Pok\\xe9mon GO   Discover Pok\\xe9mon worldwide   \n",
       "2409                       Boom Beach              Build. Plan. Boom!   \n",
       "12469  Cash, Inc. Fame & Fortune Game  Fun Strategy Business Clicker!   \n",
       "8630   Idle Miner Tycoon: Cash Empire   Mining Manager: Clicker Games   \n",
       "38                         TapDefense                                   \n",
       "3549       Star Wars\\u2122: Commander     Base Building Strategy Game   \n",
       "\n",
       "                                                icon_url  average_user_rating  \\\n",
       "1377   https://is2-ssl.mzstatic.com/image/thumb/Purpl...                  4.5   \n",
       "7185   https://is3-ssl.mzstatic.com/image/thumb/Purpl...                  4.5   \n",
       "13410  https://is3-ssl.mzstatic.com/image/thumb/Purpl...                  4.5   \n",
       "1920   https://is2-ssl.mzstatic.com/image/thumb/Purpl...                  4.5   \n",
       "8137   https://is3-ssl.mzstatic.com/image/thumb/Purpl...                  3.5   \n",
       "2409   https://is1-ssl.mzstatic.com/image/thumb/Purpl...                  4.5   \n",
       "12469  https://is3-ssl.mzstatic.com/image/thumb/Purpl...                  5.0   \n",
       "8630   https://is5-ssl.mzstatic.com/image/thumb/Purpl...                  4.5   \n",
       "38     https://is2-ssl.mzstatic.com/image/thumb/Purpl...                  3.5   \n",
       "3549   https://is2-ssl.mzstatic.com/image/thumb/Purpl...                  4.5   \n",
       "\n",
       "       user_rating_count  price  \\\n",
       "1377           3032734.0    0.0   \n",
       "7185           1277095.0    0.0   \n",
       "13410           711409.0    0.0   \n",
       "1920            469562.0    0.0   \n",
       "8137            439776.0    0.0   \n",
       "2409            400787.0    0.0   \n",
       "12469           374772.0    0.0   \n",
       "8630            283035.0    0.0   \n",
       "38              273687.0    0.0   \n",
       "3549            259030.0    0.0   \n",
       "\n",
       "                                        in-app_purchases  \\\n",
       "1377   4.99, 9.99, 19.99, 0.99, 4.99, 0.99, 49.99, 99...   \n",
       "7185   4.99, 0.99, 9.99, 19.99, 9.99, 4.99, 0.99, 19....   \n",
       "13410  0.99, 9.99, 0.99, 9.99, 24.99, 4.99, 2.99, 99....   \n",
       "1920   4.99, 2.99, 9.99, 9.99, 4.99, 3.99, 3.99, 1.99...   \n",
       "8137               0.99, 4.99, 9.99, 19.99, 39.99, 99.99   \n",
       "2409   4.99, 9.99, 19.99, 99.99, 49.99, 2.99, 0.99, 9.99   \n",
       "12469  1.99, 4.99, 0.99, 9.99, 3.99, 19.99, 2.99, 4.9...   \n",
       "8630   1.99, 2.99, 4.99, 4.99, 6.99, 19.99, 9.99, 8.9...   \n",
       "38                                      0.99, 2.99, 1.99   \n",
       "3549   19.99, 9.99, 4.99, 99.99, 49.99, 1.99, 19.99, ...   \n",
       "\n",
       "                                             description  ...  \\\n",
       "1377   \"Join millions of players worldwide as you bui...  ...   \n",
       "7185   \"Enter the Arena! From the creators of Clash o...  ...   \n",
       "13410  The official mobile version of PlayerUnknown\\'...  ...   \n",
       "1920   \"As beautifully presented as it is absorbing t...  ...   \n",
       "8137   NEW! Team GO Rocket has invaded the world of P...  ...   \n",
       "2409   \"Welcome to Boom Beach: come with a plan or le...  ...   \n",
       "12469  \"Embark on the ultimate idle clicker adventure...  ...   \n",
       "8630   \"Become an industrial tycoon by managing your ...  ...   \n",
       "38     Nominated one of the top free apps and top fre...  ...   \n",
       "3549   Fight for Your Side. Command The Galaxy.\\n\\nTh...  ...   \n",
       "\n",
       "                                              combo_text is_it_free  \\\n",
       "1377   clash of clans build your empire \"join million...          0   \n",
       "7185   clash royale epic real-time card battles! \"ent...          0   \n",
       "13410  pubg mobile team up! new 4v4 mode is here the ...          0   \n",
       "1920   plants vs. zombies\\u2122 2 save your brains! \"...          0   \n",
       "8137   pok\\xe9mon go discover pok\\xe9mon worldwide ne...          0   \n",
       "2409   boom beach build. plan. boom! \"welcome to boom...          0   \n",
       "12469  cash, inc. fame & fortune game fun strategy bu...          0   \n",
       "8630   idle miner tycoon: cash empire mining manager:...          0   \n",
       "38     tapdefense   nominated one of the top free app...          0   \n",
       "3549   star wars\\u2122: commander base building strat...          0   \n",
       "\n",
       "      in-app_purch_sum  has_in-app_purch successful_app  \\\n",
       "1377            199.90                 1              1   \n",
       "7185             77.90                 1              1   \n",
       "13410           218.88                 1              1   \n",
       "1920             49.90                 1              1   \n",
       "8137            175.94                 1              0   \n",
       "2409            198.92                 1              1   \n",
       "12469           109.90                 1              1   \n",
       "8630             83.90                 1              1   \n",
       "38                5.97                 1              0   \n",
       "3549            252.90                 1              1   \n",
       "\n",
       "                                                  tokens  \\\n",
       "1377   ['clash', 'of', 'clans', 'build', 'your', 'emp...   \n",
       "7185   ['clash', 'royale', 'epic', 'real', 'time', 'c...   \n",
       "13410  ['pubg', 'mobile', 'team', 'up', 'new', '4v4',...   \n",
       "1920   ['plants', 'vs', 'zombies', 'u2122', '2', 'sav...   \n",
       "8137   ['pok', 'xe9mon', 'go', 'discover', 'pok', 'xe...   \n",
       "2409   ['boom', 'beach', 'build', 'plan', 'boom', 'we...   \n",
       "12469  ['cash', 'inc', 'fame', 'fortune', 'game', 'fu...   \n",
       "8630   ['idle', 'miner', 'tycoon', 'cash', 'empire', ...   \n",
       "38     ['tapdefense', 'nominated', 'one', 'of', 'the'...   \n",
       "3549   ['star', 'wars', 'u2122', 'commander', 'base',...   \n",
       "\n",
       "                                                   stems  \\\n",
       "1377   ['clash', 'of', 'clan', 'build', 'your', 'empi...   \n",
       "7185   ['clash', 'royal', 'epic', 'real', 'time', 'ca...   \n",
       "13410  ['pubg', 'mobil', 'team', 'up', 'new', '4v4', ...   \n",
       "1920   ['plant', 'vs', 'zombi', 'u2122', '2', 'save',...   \n",
       "8137   ['pok', 'xe9mon', 'go', 'discov', 'pok', 'xe9m...   \n",
       "2409   ['boom', 'beach', 'build', 'plan', 'boom', 'we...   \n",
       "12469  ['cash', 'inc', 'fame', 'fortun', 'game', 'fun...   \n",
       "8630   ['idl', 'miner', 'tycoon', 'cash', 'empir', 'm...   \n",
       "38     ['tapdefens', 'nomin', 'one', 'of', 'the', 'to...   \n",
       "3549   ['star', 'war', 'u2122', 'command', 'base', 'b...   \n",
       "\n",
       "                                                    lems  \\\n",
       "1377   ['clash', 'of', 'clan', 'build', 'your', 'empi...   \n",
       "7185   ['clash', 'royale', 'epic', 'real', 'time', 'c...   \n",
       "13410  ['pubg', 'mobile', 'team', 'up', 'new', '4v4',...   \n",
       "1920   ['plant', 'v', 'zombie', 'u2122', '2', 'save',...   \n",
       "8137   ['pok', 'xe9mon', 'go', 'discover', 'pok', 'xe...   \n",
       "2409   ['boom', 'beach', 'build', 'plan', 'boom', 'we...   \n",
       "12469  ['cash', 'inc', 'fame', 'fortune', 'game', 'fu...   \n",
       "8630   ['idle', 'miner', 'tycoon', 'cash', 'empire', ...   \n",
       "38     ['tapdefense', 'nominated', 'one', 'of', 'the'...   \n",
       "3549   ['star', 'war', 'u2122', 'commander', 'base', ...   \n",
       "\n",
       "                                                keywords  \\\n",
       "1377   ['service', 'raise', 'also', 'u2019s', 'guide'...   \n",
       "7185   ['ultimate', 'battle', 'deck', 'service', 'u25...   \n",
       "13410  ['r', '100', 'confirmed', 'pubgm', 'primeplus'...   \n",
       "1920   ['service', 'u2019', 'notice', 'posted', 'stra...   \n",
       "8137   ['named', 'team', 'go', 'rocket', 'u201cbest',...   \n",
       "2409   ['base', 'allowed', 'extra', 'builders', 'cost...   \n",
       "12469  ['u2019re', 'ready', 'features', ':\\\\', 'n', '...   \n",
       "8630   ['automate', 'u2022', 'prestige', 'feature', '...   \n",
       "38     ['friends', 'nchallenge', 'free', 'content', '...   \n",
       "3549   ['base', 'service', 'ios', 'versions', 'u2019k...   \n",
       "\n",
       "                                              categories  \n",
       "1377   ['Games', ' Action', ' Entertainment', ' Strat...  \n",
       "7185   ['Games', ' Strategy', ' Entertainment', ' Act...  \n",
       "13410                  ['Games', ' Action', ' Strategy']  \n",
       "1920   ['Games', ' Strategy', ' Entertainment', ' Adv...  \n",
       "8137   ['Games', ' Strategy', ' Role Playing', ' Heal...  \n",
       "2409                   ['Games', ' Strategy', ' Action']  \n",
       "12469  ['Games', ' Strategy', ' Entertainment', ' Sim...  \n",
       "8630   ['Games', ' Simulation', ' Strategy', ' Entert...  \n",
       "38     ['Games', ' Strategy', ' Entertainment', ' Sim...  \n",
       "3549   ['Games', ' Entertainment', ' Action', ' Strat...  \n",
       "\n",
       "[10 rows x 28 columns]"
      ]
     },
     "execution_count": 17,
     "metadata": {},
     "output_type": "execute_result"
    }
   ],
   "source": [
    "a = df.sort_values(\"user_rating_count\", ascending = False)[:10]\n",
    "a"
   ]
  },
  {
   "cell_type": "markdown",
   "metadata": {},
   "source": [
    "### Age Rating"
   ]
  },
  {
   "cell_type": "code",
   "execution_count": 18,
   "metadata": {},
   "outputs": [
    {
     "data": {
      "text/plain": [
       "4"
      ]
     },
     "execution_count": 18,
     "metadata": {},
     "output_type": "execute_result"
    }
   ],
   "source": [
    "int(str(df.loc[df[\"id\"] == the_list[0], \"age_rating\"]).split(\"    \")[1].split(\"\\n\")[0].replace(\"+\", \"\"))"
   ]
  },
  {
   "cell_type": "markdown",
   "metadata": {},
   "source": [
    "### Genre Recommend"
   ]
  },
  {
   "cell_type": "code",
   "execution_count": 19,
   "metadata": {},
   "outputs": [
    {
     "data": {
      "text/plain": [
       "'Games'"
      ]
     },
     "execution_count": 19,
     "metadata": {},
     "output_type": "execute_result"
    }
   ],
   "source": [
    "str(df.loc[df[\"id\"] == the_list[0], \"primary_genre\"]).split(\"    \")[1].split(\"\\n\")[0]"
   ]
  },
  {
   "cell_type": "markdown",
   "metadata": {},
   "source": [
    "### Category Recommend"
   ]
  },
  {
   "cell_type": "code",
   "execution_count": 20,
   "metadata": {},
   "outputs": [
    {
     "data": {
      "text/plain": [
       "9703    Games, Strategy, Puzzle\n",
       "Name: genres, dtype: object"
      ]
     },
     "execution_count": 20,
     "metadata": {},
     "output_type": "execute_result"
    }
   ],
   "source": [
    "df.loc[df[\"id\"] == the_list[0], \"genres\"]"
   ]
  },
  {
   "cell_type": "code",
   "execution_count": 27,
   "metadata": {},
   "outputs": [],
   "source": [
    "def app_categ(df, id_list):\n",
    "    categ_list = []\n",
    "    for i in range(len(the_list)):\n",
    "        for elem in list(df.loc[df[\"id\"] == the_list[i], \"categories\"])[0]:\n",
    "            if elem in categ_list:\n",
    "                pass\n",
    "            else:\n",
    "                categ_list.append(elem)\n",
    "    return categ_list"
   ]
  },
  {
   "cell_type": "code",
   "execution_count": 28,
   "metadata": {},
   "outputs": [
    {
     "data": {
      "text/plain": [
       "['Games',\n",
       " ' Strategy',\n",
       " ' Puzzle',\n",
       " ' Entertainment',\n",
       " ' Action',\n",
       " ' Role Playing',\n",
       " ' Education',\n",
       " ' Board',\n",
       " ' Casual']"
      ]
     },
     "execution_count": 28,
     "metadata": {},
     "output_type": "execute_result"
    }
   ],
   "source": [
    "app_categ(df, the_list)"
   ]
  },
  {
   "cell_type": "markdown",
   "metadata": {},
   "source": [
    "### Keep Lists after reading in the csv"
   ]
  },
  {
   "cell_type": "code",
   "execution_count": 23,
   "metadata": {},
   "outputs": [],
   "source": [
    "import ast\n",
    "def eval_literal(list_words):\n",
    "    try:\n",
    "        return ast.literal_eval(list_words)  \n",
    "    except ValueError:\n",
    "        return ast.literal_eval(str(list_words))  \n",
    "# Items from list of strings to literal - ''\n",
    "df['categories'] = df['categories'].map(eval_literal)"
   ]
  },
  {
   "cell_type": "markdown",
   "metadata": {},
   "source": [
    "### Price range recommendation"
   ]
  },
  {
   "cell_type": "code",
   "execution_count": 24,
   "metadata": {},
   "outputs": [],
   "source": [
    "e, r = float(df.loc[df[\"id\"] == the_list[4], \"price\"]), 2"
   ]
  },
  {
   "cell_type": "code",
   "execution_count": 25,
   "metadata": {},
   "outputs": [
    {
     "data": {
      "text/plain": [
       "2.99"
      ]
     },
     "execution_count": 25,
     "metadata": {},
     "output_type": "execute_result"
    }
   ],
   "source": [
    "e"
   ]
  },
  {
   "cell_type": "code",
   "execution_count": 26,
   "metadata": {},
   "outputs": [
    {
     "data": {
      "text/plain": [
       "2"
      ]
     },
     "execution_count": 26,
     "metadata": {},
     "output_type": "execute_result"
    }
   ],
   "source": [
    "r"
   ]
  }
 ],
 "metadata": {
  "kernelspec": {
   "display_name": "Python 3",
   "language": "python",
   "name": "python3"
  },
  "language_info": {
   "codemirror_mode": {
    "name": "ipython",
    "version": 3
   },
   "file_extension": ".py",
   "mimetype": "text/x-python",
   "name": "python",
   "nbconvert_exporter": "python",
   "pygments_lexer": "ipython3",
   "version": "3.7.4"
  }
 },
 "nbformat": 4,
 "nbformat_minor": 2
}
